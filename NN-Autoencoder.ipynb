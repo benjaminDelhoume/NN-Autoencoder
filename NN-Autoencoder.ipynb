{
  "nbformat": 4,
  "nbformat_minor": 0,
  "metadata": {
    "kernelspec": {
      "display_name": "Python 3",
      "language": "python",
      "name": "python3"
    },
    "language_info": {
      "codemirror_mode": {
        "name": "ipython",
        "version": 3
      },
      "file_extension": ".py",
      "mimetype": "text/x-python",
      "name": "python",
      "nbconvert_exporter": "python",
      "pygments_lexer": "ipython3",
      "version": "3.6.9"
    },
    "colab": {
      "name": "Copie de DL_project_DELCOM.ipynb",
      "provenance": [],
      "collapsed_sections": [
        "Ujfelr6rSgmm",
        "fpuX0eqqSgmr",
        "brvqYwWNSgmv",
        "5LhmBfCUSgmv",
        "KPiSFvy3SgnF"
      ]
    },
    "accelerator": "GPU"
  },
  "cells": [
    {
      "cell_type": "markdown",
      "metadata": {
        "id": "W7nbEQ2-SgmO"
      },
      "source": [
        "# Initialisation"
      ]
    },
    {
      "cell_type": "markdown",
      "metadata": {
        "id": "xkRJBovuSgmc"
      },
      "source": [
        "/!\\ FIRST THING TO DO :\n",
        "\n",
        "EXECUTION --> MODIFIER LE TYPE D'EXECUTION --> GPU (Accélérateur matériel) \n",
        "\n",
        "FICHIER --> ENREGISTRER UNE COPIE DANS DRIVE"
      ]
    },
    {
      "cell_type": "code",
      "metadata": {
        "id": "_gi1PeCCSgme"
      },
      "source": [
        "# Install TensorFlow 2.0 on Google Collab if needed\n",
        "try:\n",
        "  # %tensorflow_version only exists in Colab.\n",
        "  %tensorflow_version 2.x\n",
        "except Exception:\n",
        "    pass"
      ],
      "execution_count": null,
      "outputs": []
    },
    {
      "cell_type": "markdown",
      "metadata": {
        "id": "jquFQINWSgmf"
      },
      "source": [
        "Verify GPU usage. You should see \n",
        "\n",
        "```\n",
        "Number of GPUs available : 1\n",
        "Only GPU number 0 used\n",
        "```"
      ]
    },
    {
      "cell_type": "code",
      "metadata": {
        "id": "O7feoqX4Sgmg",
        "colab": {
          "base_uri": "https://localhost:8080/"
        },
        "outputId": "e9896e84-9bda-4223-f2e8-df0e7fe1ea65"
      },
      "source": [
        "num_GPU = 0\n",
        "\n",
        "import tensorflow as tf\n",
        "print('Tensorflow version: ', tf.__version__)\n",
        "\n",
        "gpus = tf.config.experimental.list_physical_devices(\"GPU\")\n",
        "print('Number of GPUs available :', len(gpus))\n",
        "\n",
        "tf.config.experimental.set_visible_devices(gpus[num_GPU], 'GPU')\n",
        "tf.config.experimental.set_memory_growth(gpus[num_GPU], True)\n",
        "print('Only GPU number', num_GPU, 'used')"
      ],
      "execution_count": null,
      "outputs": [
        {
          "output_type": "stream",
          "text": [
            "Tensorflow version:  2.5.0\n",
            "Number of GPUs available : 1\n",
            "Only GPU number 0 used\n"
          ],
          "name": "stdout"
        }
      ]
    },
    {
      "cell_type": "code",
      "metadata": {
        "id": "sC-AmBw5Sgmh"
      },
      "source": [
        "import numpy as np\n",
        "import matplotlib.pyplot as plt  \n",
        "\n",
        "from tensorflow.keras import Model\n",
        "from tensorflow.keras.layers import Layer"
      ],
      "execution_count": null,
      "outputs": []
    },
    {
      "cell_type": "markdown",
      "metadata": {
        "id": "1hUpLL8lSgmi"
      },
      "source": [
        "### Intro\n",
        "\n",
        "In this project, the goal is to create a set of NN-based transmitter and receiver that beats a conventional QAM system. \n",
        "\n",
        "The performance metric is the rate of the transmission. The rate of a transmission is the maximum number of bits that could be sent through the transmitter-receiver if perfect channel coding was used (the bits are coded/decoded before/after the transmissions). In this project, we won't use channel coding, so remember that the rate is a good indication of the performance of a system.\n",
        "\n",
        "The questions should be answered in the report. Please contact me when you think you have the answer so that I can follow your progress :)\n",
        "\n",
        "The goal is to finish section 1 and 2. Section 3 is optional. "
      ]
    },
    {
      "cell_type": "markdown",
      "metadata": {
        "id": "ubV44UqjSgmj"
      },
      "source": [
        "### Usefull functions\n",
        "You do not have to use them all!\n",
        "\n",
        "- https://www.tensorflow.org/api_docs/python/tf/cast?hl=fr --> tensorflow operations can only be carried out on tensors that have the same type (int8, float32, complex64...)\n",
        "- https://www.tensorflow.org/api_docs/python/tf/shape\n",
        "- https://www.tensorflow.org/api_docs/python/tf/size?hl=fr\n",
        "- https://www.tensorflow.org/api_docs/python/tf/reshape\n",
        "- https://www.tensorflow.org/api_docs/python/tf/concat\n",
        "- https://www.tensorflow.org/api_docs/python/tf/one_hot\n",
        "- https://www.tensorflow.org/api_docs/python/tf/math/reduce_mean\n",
        "- https://www.tensorflow.org/api_docs/python/tf/math/reduce_sum\n",
        "- https://www.tensorflow.org/api_docs/python/tf/expand_dims\n",
        "- https://www.tensorflow.org/api_docs/python/tf/linalg/matmul\n",
        "- https://www.tensorflow.org/api_docs/python/tf/size?hl=fr"
      ]
    },
    {
      "cell_type": "markdown",
      "metadata": {
        "id": "rR-dZK5XSgmk"
      },
      "source": [
        "### Usefull jupyter notebook commands\n",
        "\n",
        "- `Ctrl + Enter` : Execute command\n",
        "- `Shift + Enter` : Execute command and go to next cell\n",
        "-  `dd` : Delete cell\n",
        "- 'b' : Create new cell below\n",
        "- 'a' : Create new cell above\n",
        "- The little arrow next to titles : group cells from the specific section"
      ]
    },
    {
      "cell_type": "markdown",
      "metadata": {
        "id": "EMt1hgJdSgml"
      },
      "source": [
        "# Predefined functions"
      ]
    },
    {
      "cell_type": "markdown",
      "metadata": {
        "id": "Ujfelr6rSgmm"
      },
      "source": [
        "## Not intersting\n",
        "\n",
        "Do not look at this code, it is boring"
      ]
    },
    {
      "cell_type": "code",
      "metadata": {
        "id": "qhBT0iL1Sgmn"
      },
      "source": [
        "def visualize (model, SNRs_db):\n",
        "    K = model.K\n",
        "    msg = np.arange(2**K)\n",
        "    res = []\n",
        "    for i in range(2**K):\n",
        "        temp=msg[i]\n",
        "        res_ = []\n",
        "        for j in 2**np.linspace(K-1, 0, K):\n",
        "            if temp - j >= 0 :\n",
        "                res_.append(1)\n",
        "                temp -= j\n",
        "            else:\n",
        "                res_.append(0)\n",
        "        res.append(res_)\n",
        "    bits = np.array(res, dtype=np.float32) \n",
        "    \n",
        "    fig, axes = plt.subplots(1, len(SNRs_db), figsize=(len(SNRs_db)*7, 6))\n",
        "    if len(SNRs_db) == 1 :\n",
        "        axes = np.array([axes])\n",
        "    for i in range(len(SNRs_db)):\n",
        "                   \n",
        "        llrs = model(bits, tf.ones(shape=(tf.shape(bits)[0], 1))*SNRs_db[i])\n",
        "        x = model.x\n",
        "        if tf.size(tf.shape(x)) == 1 :\n",
        "            x = x[:, tf.newaxis]\n",
        "                   \n",
        "        axes[i].set_title('SNR_db = '+str(SNRs_db[i]))\n",
        "        for j in range(2**K):\n",
        "            axes[i].scatter(np.real(x[j, 0]), np.imag(x[j, 0]))\n",
        "            axes[i].text(np.real(x[j, 0])+0.02, np.imag(x[j, 0])+0.02, np.binary_repr(j, width=K), fontsize=8)\n",
        "            axes[i].set_xlim([-1.65, 1.65])\n",
        "            axes[i].set_ylim([-1.65, 1.65])"
      ],
      "execution_count": null,
      "outputs": []
    },
    {
      "cell_type": "code",
      "metadata": {
        "id": "NL0LE_9ISgmo"
      },
      "source": [
        "def visualize_channel_uses (model, SNR_db):\n",
        "    K = model.K\n",
        "    msg = np.arange(2**K)\n",
        "    res = []\n",
        "    for i in range(2**K):\n",
        "        temp=msg[i]\n",
        "        res_ = []\n",
        "        for j in 2**np.linspace(K-1, 0, K):\n",
        "            if temp - j >= 0 :\n",
        "                res_.append(1)\n",
        "                temp -= j\n",
        "            else:\n",
        "                res_.append(0)\n",
        "        res.append(res_)\n",
        "    bits = np.array(res, dtype=np.float32) \n",
        "    llrs = model(bits, tf.ones(shape=(tf.shape(bits)[0], 1))*SNR_db)\n",
        "    \n",
        "    x = model.x\n",
        "    \n",
        "    if tf.size(tf.shape(x)) == 1 :\n",
        "        x = x[:, tf.newaxis]\n",
        "    \n",
        "    fig, axes = plt.subplots(1, model.Nc, figsize=(model.Nc*7, 6))\n",
        "    if model.Nc == 1 :\n",
        "        axes = np.array([axes])\n",
        "    for i in range(model.Nc):\n",
        "        if model.Nc != 1 :\n",
        "            axes[i].set_title('Channel use n° '+str(i+1))\n",
        "        for j in range(2**K):\n",
        "            axes[i].scatter(np.real(x[j, i]), np.imag(x[j, i]))\n",
        "            axes[i].text(np.real(x[j, i])+.02, np.imag(x[j, i])+.02, np.binary_repr(j, width=K), fontsize=8)\n",
        "            axes[i].set_xlim([-1.65, 1.65])\n",
        "            axes[i].set_ylim([-1.65, 1.65])"
      ],
      "execution_count": null,
      "outputs": []
    },
    {
      "cell_type": "code",
      "metadata": {
        "id": "7bJg0n_xSgmp"
      },
      "source": [
        "def table_gray(K):\n",
        "        def genCode(n):\n",
        "                if n == 0:\n",
        "                    return ['']\n",
        "\n",
        "                code1 = genCode(n-1)\n",
        "                code2 = []\n",
        "                for codeWord in code1:\n",
        "                    code2 = [codeWord] + code2\n",
        "\n",
        "                for i in range(len(code1)):\n",
        "                    code1[i] += '0'\n",
        "                for i in range(len(code2)):\n",
        "                    code2[i] += '1'\n",
        "                return code1 + code2  \n",
        "\n",
        "        k = K // 2 # bits per dimension\n",
        "        syms = 2**k\n",
        "        m = syms**2\n",
        "        # gray labeling\n",
        "        gray_labeling = []\n",
        "        for i in range(2**k):\n",
        "            gray_labeling.append(np.array([int(e) for e in  genCode(k)[i]]))\n",
        "        gray_labeling = np.array(gray_labeling)\n",
        "\n",
        "        encoding_table_256_qam = gray_labeling[:,::-1]\n",
        "\n",
        "        encoding_table_256_qam = np.hstack( [np.kron(encoding_table_256_qam,np.ones((syms,1))), np.tile(encoding_table_256_qam,(syms,1)) ])\n",
        "\n",
        "        natural_number = np.sum(2**np.arange(2*k)[::-1] * encoding_table_256_qam,axis=1)\n",
        "        table_gray = np.zeros((m,m))\n",
        "        for bvec in range(m):\n",
        "            table_gray[bvec,np.where(natural_number==bvec)[0]] =1\n",
        "\n",
        "        return table_gray"
      ],
      "execution_count": null,
      "outputs": []
    },
    {
      "cell_type": "code",
      "metadata": {
        "id": "wsdhsX5cSgmp"
      },
      "source": [
        "def qam_const(K):\n",
        "    M = 2**K\n",
        "    size = int(np.sqrt(M))\n",
        "    a = np.arange(size)\n",
        "    b = a - np.mean(a)\n",
        "    C=[]\n",
        "    for i in range(size):\n",
        "        for j in range(size):\n",
        "            C.append(b[j]-1j*b[i])\n",
        "    C = C/np.sqrt(np.mean(np.square(np.abs(C))))\n",
        "    return C.astype(np.complex64)\n"
      ],
      "execution_count": null,
      "outputs": []
    },
    {
      "cell_type": "code",
      "metadata": {
        "id": "QnG3ENPSSgmq"
      },
      "source": [
        "def evaluate_rate(model, SNRs_eval, DS_size=10000):\n",
        "    \n",
        "    print('K = '+str(model.K))\n",
        "    \n",
        "    DS_bits, DS_SNRs = gen_DS(DS_size, model.K, 1., 1.)\n",
        "    TF_DS_test = tf.data.Dataset.from_tensor_slices((DS_bits, DS_SNRs)).shuffle(DS_size).batch(1000)\n",
        "    \n",
        "    print(\"SNR (dB) = \", end='')\n",
        "    rates = []\n",
        "    for snr_i in SNRs_eval :\n",
        "\n",
        "        rates_temp = []\n",
        "        for step, (bits, SNRs) in enumerate(TF_DS_test):\n",
        "            pb_eq_1 = model(bits, SNRs*snr_i)\n",
        "            bits_pred = tf.sign(pb_eq_1-0.5)/2.+0.5\n",
        "            err_1 = tf.abs(bits - bits_pred)\n",
        "            err_2 = tf.abs(bits_pred - bits)\n",
        "            err_3 = tf.reduce_sum(tf.nn.relu(err_1 - err_2)) * tf.reduce_mean(tf.nn.tanh(err_2 - err_1))\n",
        "            err_4 =  tf.reduce_mean(tf.keras.losses.binary_crossentropy(bits, pb_eq_1)) * (tf.reduce_max(bits) + err_3)\n",
        "            rates_temp.append(model.K-err_4.numpy())\n",
        "        rates.append(np.mean(rates_temp))\n",
        "        print(str(snr_i)+', ', end='')\n",
        "    print('')\n",
        "    return rates"
      ],
      "execution_count": null,
      "outputs": []
    },
    {
      "cell_type": "markdown",
      "metadata": {
        "id": "9k72ONQxSgmq"
      },
      "source": [
        "## Could be interesting\n",
        "\n",
        "This could be interesting"
      ]
    },
    {
      "cell_type": "code",
      "metadata": {
        "id": "C6rK60bNSgmr"
      },
      "source": [
        "def gen_DS(DS_size, K, SNR_db_low, SNR_db_high):\n",
        "    \"\"\"Returns a dataset of dimension [epochs, Bs, K]\"\"\"\n",
        "        \n",
        "    DS_bits = tf.random.uniform(shape=[DS_size, K], minval=0, maxval=2, dtype=tf.int32)\n",
        "    DS_SNRs = tf.random.uniform(shape=[DS_size, 1], minval=SNR_db_low, maxval=SNR_db_high)\n",
        "    return tf.cast(DS_bits, tf.float32), DS_SNRs"
      ],
      "execution_count": null,
      "outputs": []
    },
    {
      "cell_type": "markdown",
      "metadata": {
        "id": "4x702X6LSgmr"
      },
      "source": [
        "# Predefined classes"
      ]
    },
    {
      "cell_type": "markdown",
      "metadata": {
        "id": "fpuX0eqqSgmr"
      },
      "source": [
        "## Not interesting\n",
        "\n",
        "Boring or \"complex\" stuff"
      ]
    },
    {
      "cell_type": "code",
      "metadata": {
        "id": "XGH1iQUGSgms"
      },
      "source": [
        "class Mapper(Layer):\n",
        "    \"\"\"\n",
        "    Maps vector of K bits to a complex symbol\n",
        "    Inputs :\n",
        "    - K, the nber of bits/ch_uses\n",
        "    \"\"\"\n",
        "    def __init__(self, K, Nc, rayleigh):\n",
        "        super().__init__()     \n",
        "        \n",
        "        self.K = K\n",
        "        self.Nc = Nc\n",
        "        self.rayleigh = rayleigh\n",
        "        \n",
        "        if self.rayleigh == True :\n",
        "            self.Nc -= 1\n",
        "            if self.Nc < 1:\n",
        "                print('/!\\ with Rayleigh fading, Nc must be higher than one (Nc >= 2)')\n",
        "                raise Exception()\n",
        "        self.bin_conv = tf.convert_to_tensor(np.flip([np.power(2, i) for i in range(self.K)]), dtype=tf.float32)\n",
        "        \n",
        "    def call(self, bits, GM, QAM_const):\n",
        "        \"\"\"\n",
        "        Inputs:\n",
        "        - bits = [Bs, K] \n",
        "        - GM, the Gray Mapping\n",
        "        - C = [M], the corresponding constallation\n",
        "        \n",
        "        Outputs:\n",
        "        - x = [Bs, Nc] \n",
        "        \"\"\"\n",
        "        self.bits = bits\n",
        "        self.bits_rshp = tf.reshape(bits, [-1, tf.shape(bits)[-1]])\n",
        "        \n",
        "        self.C_batch = tf.tile(tf.expand_dims(QAM_const, axis=0), [tf.shape(bits)[0], 1])\n",
        "        \n",
        "        self.s_dec = tf.cast(tf.reduce_sum(self.bits_rshp*self.bin_conv[tf.newaxis, :], axis=1), tf.int32) # [BS]\n",
        "        self.s_idx = tf.gather(GM, self.s_dec, axis=0)\n",
        "        self.s_idx = tf.argmax(self.s_idx, axis=1, output_type=tf.int32)\n",
        "        \n",
        "        self.s_oh = tf.one_hot(self.s_idx, depth=tf.pow(2, self.K))\n",
        "        self.C_exp = tf.reshape(tf.tile(self.C_batch[:, tf.newaxis, :], [1, 1, 1]), [-1, tf.pow(2, self.K)])[:, :, tf.newaxis]\n",
        "        \n",
        "        # Mapping symbols to complex points\n",
        "        self.x_rshp = tf.squeeze(tf.matmul(tf.cast(self.s_oh[:, tf.newaxis, :], tf.complex64), self.C_exp))\n",
        "        self.x = tf.tile(tf.reshape(self.x_rshp, [tf.shape(bits)[0], 1])[:, tf.newaxis, :], [1, self.Nc, 1])[:, :, 0]\n",
        "        \n",
        "        if self.rayleigh == True:\n",
        "            self.x = tf.concat([self.x, tf.ones([tf.shape(self.x)[0], 1], dtype=tf.complex64)], axis=1)\n",
        "            \n",
        "        return self.x"
      ],
      "execution_count": null,
      "outputs": []
    },
    {
      "cell_type": "code",
      "metadata": {
        "id": "mOwhBZNXSgms"
      },
      "source": [
        "class Channel(Layer):\n",
        "\n",
        "    def __init__(self, Nc=1, rayleigh=False, **kwargs):\n",
        "        super(Channel, self).__init__(**kwargs)\n",
        "        \n",
        "        self.Nc = Nc\n",
        "        self.rayleigh = rayleigh\n",
        "        \n",
        "    def call(self, x, SNR_db):\n",
        "        \n",
        "        if tf.reduce_mean(tf.square(tf.abs(x)))>2.5:\n",
        "            tf.print('Watch out! You mean power should be one, but is actually ' + str(tf.reduce_mean(tf.square(tf.abs(x))).numpy()))\n",
        "            raise Exception ('Stop due to wrong average symbol power')\n",
        "        \n",
        "        dims_1 = False\n",
        "        if tf.size(tf.shape(x)) == 1 :\n",
        "            x = x[tf.newaxis]\n",
        "            dims_1 = True\n",
        "            \n",
        "        if self.rayleigh == False:\n",
        "            noise_std = tf.sqrt( 1 / tf.pow(10., SNR_db/10.0))\n",
        "            noise_r = tf.random.normal(shape = [tf.shape(x)[0], self.Nc], stddev = 1) * noise_std/tf.sqrt(2.)\n",
        "            noise_i = tf.random.normal(shape = [tf.shape(x)[0], self.Nc], stddev = 1) * noise_std/tf.sqrt(2.)\n",
        "            self.noise_cplx = tf.complex(noise_r, noise_i)\n",
        "        \n",
        "            self.y = x + self.noise_cplx\n",
        "        \n",
        "        else:\n",
        "            rayleigh_real = tf.random.normal(shape = [tf.shape(x)[0]], stddev = 1./tf.sqrt(2.))\n",
        "            rayleigh_imag = tf.random.normal(shape = [tf.shape(x)[0]], stddev = 1./tf.sqrt(2.))\n",
        "            self.h = tf.tile(tf.complex(rayleigh_real, rayleigh_imag)[:, tf.newaxis], [1, self.Nc])\n",
        "\n",
        "            noise_std = tf.sqrt( 1 / tf.pow(10., SNR_db/10.0))\n",
        "            noise_r = tf.random.normal(shape = [tf.shape(x)[0], self.Nc], stddev = 1) * noise_std/tf.sqrt(2.)\n",
        "            noise_i = tf.random.normal(shape = [tf.shape(x)[0], self.Nc], stddev = 1) * noise_std/tf.sqrt(2.)\n",
        "            self.noise_cplx = tf.complex(noise_r, noise_i)\n",
        "\n",
        "            self.y = self.h*x + self.noise_cplx\n",
        "        \n",
        "        if dims_1 == True :\n",
        "            self.y = self.y[:, 0]\n",
        "            \n",
        "        return self.y"
      ],
      "execution_count": null,
      "outputs": []
    },
    {
      "cell_type": "code",
      "metadata": {
        "id": "2A5SUFLISgms"
      },
      "source": [
        "class Demapper(Layer):\n",
        "\n",
        "    def __init__(self, K, GM, rayleigh, **kwargs):\n",
        "        super().__init__(**kwargs)\n",
        "        \n",
        "        self.K = K\n",
        "        self.const_size = 2**K\n",
        "        self.rayleigh = rayleigh\n",
        "        \n",
        "        self.bits2symb = np.argmax(GM, axis=1)\n",
        "        bit_list = np.arange(self.const_size)\n",
        "        bit_list = [[int(j) for j in list(np.binary_repr(i, width=self.K))] for i in bit_list]\n",
        "        self.bits_nat = np.array(bit_list)\n",
        "\n",
        "        self.ind_all = np.arange(self.const_size, dtype=np.int64)\n",
        "\n",
        "        self.B = []\n",
        "        for i in range(self.K):\n",
        "            self.B.append([None, None])\n",
        "            # 0\n",
        "            a = np.where(self.bits_nat[:,i] == 0)[0]\n",
        "            self.B[i][0] = np.take(self.bits2symb, a)\n",
        "            # 1\n",
        "            a = np.where(self.bits_nat[:,i] == 1)[0]\n",
        "            self.B[i][1] = np.take(self.bits2symb, a)\n",
        "    \n",
        "    \n",
        "    def awgn_cde(self, snr_db, y, s, C):\n",
        "        mu = tf.gather(C, s, axis=1)\n",
        "        snr = tf.pow(tf.cast(10.0, tf.float32), snr_db/10.0)\n",
        "        v = 1./(snr)\n",
        "        z = -tf.reduce_sum(tf.square(y - mu), axis=2)/v\n",
        "        \n",
        "        return z\n",
        "    \n",
        "    def call(self, y_cplx, SNR_db, QAM_const):\n",
        "        \"\"\"\n",
        "        AWGN demapper for SISO links\n",
        "        \n",
        "        Inputs : y_cplx = [Bs, Nc], snr_db = [1], C = [M]\n",
        "        Outputs : LLRs = [Bs, K]\n",
        "        \"\"\"\n",
        "        if self.rayleigh==True:\n",
        "            y_cplx_eq = y_cplx[:, :-1] / y_cplx[:, -1:]\n",
        "            y_cplx_mean = tf.reduce_mean(y_cplx_eq, axis=1, keepdims=True)\n",
        "        else :\n",
        "            y_cplx_mean = tf.reduce_mean(y_cplx, axis=1, keepdims=True)\n",
        "            \n",
        "        SNR_db_batch = SNR_db #tf.ones([tf.shape(y_cplx_mean)[0], 1]) * SNR_db\n",
        "        C_batch = tf.tile(tf.expand_dims(QAM_const, axis=0), [tf.shape(y_cplx_mean)[0], 1])\n",
        "        \n",
        "        C_r_i = tf.stack([tf.math.real(C_batch), tf.math.imag(C_batch)], axis=2)\n",
        "        y = tf.stack([tf.math.real(y_cplx_mean), tf.math.imag(y_cplx_mean)], axis=2) \n",
        "        \n",
        "        pyb_0 = []\n",
        "        pyb_1 = []\n",
        "        y = tf.tile(y, [1, self.const_size//2, 1])\n",
        "        y_2 = tf.tile(y, [1, 2, 1])\n",
        "        p = tf.constant(self.ind_all, tf.int32)\n",
        "        z_all = self.awgn_cde(SNR_db_batch, y_2, p, C_r_i)\n",
        "        for i in range(self.K):\n",
        "            # 0\n",
        "            p = tf.constant(self.B[i][0], tf.int32)\n",
        "            z = tf.gather(z_all, p, axis=1)\n",
        "            z = tf.math.reduce_logsumexp(z, axis=1)\n",
        "            pyb_0.append(z)\n",
        "            # 1\n",
        "            p = tf.constant(self.B[i][1], tf.int32)\n",
        "            z = tf.gather(z_all, p, axis=1)\n",
        "            z = tf.math.reduce_logsumexp(z, axis=1)\n",
        "            pyb_1.append(z)\n",
        "        pyb_0 = tf.stack(pyb_0, axis=1)\n",
        "        pyb_1 = tf.stack(pyb_1, axis=1)\n",
        "        llr = pyb_1 - pyb_0\n",
        "        \n",
        "        return llr"
      ],
      "execution_count": null,
      "outputs": []
    },
    {
      "cell_type": "markdown",
      "metadata": {
        "id": "x9hbrcbZSgmt"
      },
      "source": [
        "## Could be interesting\n",
        "\n",
        "You might want to look at it"
      ]
    },
    {
      "cell_type": "code",
      "metadata": {
        "id": "GXGiah8CSgmu"
      },
      "source": [
        "class Model_QAM(Model) :\n",
        "    def __init__(self, K, Nc=1, rayleigh=False):\n",
        "        super().__init__()\n",
        "        \n",
        "        self.K = K\n",
        "        self.Nc = Nc \n",
        "        self.QAM_const = tf.constant(qam_const(K))\n",
        "        self.GM = tf.constant(table_gray(K), tf.float32)\n",
        "\n",
        "        self.mapper = Mapper(self.K, self.Nc, rayleigh)\n",
        "        self.channel = Channel(self.Nc, rayleigh)\n",
        "        self.demapper = Demapper(self.K, self.GM, rayleigh)\n",
        "\n",
        "    #@tf.function\n",
        "    def call(self, bits, SNR_db):\n",
        "        \n",
        "        self.bits = tf.cast(bits, tf.float32)\n",
        "        \n",
        "        self.x = self.mapper(bits, self.GM, self.QAM_const)\n",
        "            \n",
        "        self.y = self.channel(self.x, SNR_db)\n",
        "\n",
        "        self.llrs = self.demapper(self.y, SNR_db, self.QAM_const)\n",
        "        \n",
        "        self.pb_eq_1 = tf.nn.sigmoid(self.llrs)\n",
        "        \n",
        "        return self.pb_eq_1"
      ],
      "execution_count": null,
      "outputs": []
    },
    {
      "cell_type": "markdown",
      "metadata": {
        "id": "Wwr4uxyvSgmu"
      },
      "source": [
        "# Baseline (QAM) system"
      ]
    },
    {
      "cell_type": "markdown",
      "metadata": {
        "id": "nboxwkg1Sgmu"
      },
      "source": [
        "<img src=\"https://github.com/mgoutay/ml_course/blob/master/Images/standard_system.png?raw=true\" alt=\"Drawing\" style=\"width: 700px;\"/>"
      ]
    },
    {
      "cell_type": "markdown",
      "metadata": {
        "id": "brvqYwWNSgmv"
      },
      "source": [
        "### QAM transmission\n",
        "\n",
        "Let's start by defining the baseline that we want to beat : a 64-QAM transmitter/receiver\n",
        "\n",
        "The number of bits represented by one complex symbol is denoted $K$\n",
        "\n",
        "Using a 64-QAM transmitter means that we use one complex symbol to transmit 6 bits ($K=6$)\n",
        "\n",
        "- choosing $K=2$ means that QPSK (= 4-QAM) is used\n",
        "- choosing $K=4$ means that 16-QAM is used\n",
        "- etc.."
      ]
    },
    {
      "cell_type": "markdown",
      "metadata": {
        "id": "5LhmBfCUSgmv"
      },
      "source": [
        "### Notations\n",
        "\n",
        "(scalars are denoted by lower-case letters, vectors by bold lower-case letters)\n",
        "\n",
        "The bits that we want to send over the channel are denoted $\\mathbf{b}\\in\\{0, 1\\}^{K}$. It is a vector of bits (0, 1) of size $K$.\n",
        "\n",
        "The corresponding complex symbol sent by the transmitter is denoted $x\\in\\mathbb{C}$, and the symbol received by the receiver is denoted $y\\in\\mathbb{C}$\n",
        "\n",
        "Finally, the receiver outputs probabilities $\\mathbf{p}\\in\\mathbb{R}^K$. Each entry $p_i$ of $\\mathbf{p}$ correspond to the probability that the $i^{\\text{th}}$ bit equals one, so we have $0 \\leq p_i \\leq 1$"
      ]
    },
    {
      "cell_type": "markdown",
      "metadata": {
        "id": "JqZSMHRgSgmv"
      },
      "source": [
        "### Channel model\n",
        "\n",
        "We consider a Additive White Gaussian Noise (AWGN) channel, where we have: \n",
        "$$y = x + n$$\n",
        "$n$ being complex gaussian noise with variance $\\sigma^2$ : $n \\sim \\mathcal{C}\\mathcal{N}(0, \\sigma^2) $, meaning that the variance of both the real and imaginary part is $\\frac{\\sigma^2}{2}$.\n",
        "\n",
        "It is assumed that $\\mathbb{E}[|x|^2] =1$, i.e., the average power per symbol is one.\n",
        "\n",
        "The Signal to Noise Ratio (SNR) of the transmission is defined as $\\text{SNR} = \\frac{\\mathbb{E}[|x|^2]}{\\sigma^2} = \\frac{1}{\\sigma^2} $. It is common practice to represent the SNR in decibel : $\\text{SNR}_{\\text{dB}} = 10 \\text{log}_{10} (\\text{SNR})$"
      ]
    },
    {
      "cell_type": "code",
      "metadata": {
        "id": "-7oS1QWMSgmv"
      },
      "source": [
        "K=6\n",
        "DS_size=10000 #Size of the Dataset to generate\n",
        "\n",
        "DS_bits, DS_SNRs_db = gen_DS(DS_size, K, SNR_db_low=-5, SNR_db_high=30)"
      ],
      "execution_count": null,
      "outputs": []
    },
    {
      "cell_type": "markdown",
      "metadata": {
        "id": "sqQkElLGSgmw"
      },
      "source": [
        "### Dataset\n",
        "\n",
        "The datasets are generated by the `gen_DS` function, which returns a dataset composed of random bits of dimension [DS_size, K] and random SNRs of dimension [DS_size, 1] in dB. "
      ]
    },
    {
      "cell_type": "code",
      "metadata": {
        "id": "_qAq18rGSgmw",
        "colab": {
          "base_uri": "https://localhost:8080/"
        },
        "outputId": "be438f77-f98f-4c9e-8d61-71d476982865"
      },
      "source": [
        "print(DS_bits.shape)\n",
        "print(DS_SNRs_db.shape)"
      ],
      "execution_count": null,
      "outputs": [
        {
          "output_type": "stream",
          "text": [
            "(10000, 6)\n",
            "(10000, 1)\n"
          ],
          "name": "stdout"
        }
      ]
    },
    {
      "cell_type": "code",
      "metadata": {
        "id": "crHXq8HXSgmx",
        "colab": {
          "base_uri": "https://localhost:8080/"
        },
        "outputId": "f5513110-889a-4818-a871-df941acf1a1c"
      },
      "source": [
        "print(DS_bits[:2]) #Display only the first two entries in the dataset\n",
        "print(DS_SNRs_db[:2]) #Display only the first two entries in the dataset"
      ],
      "execution_count": null,
      "outputs": [
        {
          "output_type": "stream",
          "text": [
            "tf.Tensor(\n",
            "[[1. 0. 0. 1. 0. 1.]\n",
            " [1. 1. 0. 0. 0. 1.]], shape=(2, 6), dtype=float32)\n",
            "tf.Tensor(\n",
            "[[10.892332]\n",
            " [11.599613]], shape=(2, 1), dtype=float32)\n"
          ],
          "name": "stdout"
        }
      ]
    },
    {
      "cell_type": "markdown",
      "metadata": {
        "id": "eS1arEkCSgmx"
      },
      "source": [
        "We can now initialize our baseline model, and make a simple forward pass through it. The output of the model is the estimated probabilities that the received bits are ones. Let's try with the first two sample of our dataset :"
      ]
    },
    {
      "cell_type": "code",
      "metadata": {
        "id": "HIZUP6UgSgmx",
        "colab": {
          "base_uri": "https://localhost:8080/"
        },
        "outputId": "febe5502-ecdf-4395-947b-2773a5c23554"
      },
      "source": [
        "# Initialize the baseline\n",
        "baseline = Model_QAM(K)\n",
        "\n",
        "# Define a very small batch just just to visualize the output\n",
        "batch_bits = DS_bits[:2]\n",
        "batch_SNRs = DS_SNRs_db[:2]\n",
        "\n",
        "# Print the sent bits\n",
        "print(batch_bits)\n",
        "\n",
        "# Compute probabilities that the bits equals to one\n",
        "prob_eq_1 = baseline(batch_bits, batch_SNRs)\n",
        "\n",
        "# Print the symbols that were sent\n",
        "print(baseline.x)\n",
        "\n",
        "# Print the predicted probabilities\n",
        "print(prob_eq_1)"
      ],
      "execution_count": null,
      "outputs": [
        {
          "output_type": "stream",
          "text": [
            "tf.Tensor(\n",
            "[[1. 0. 0. 1. 0. 1.]\n",
            " [1. 1. 0. 0. 0. 1.]], shape=(2, 6), dtype=float32)\n",
            "tf.Tensor(\n",
            "[[ 0.77151674-1.0801234j ]\n",
            " [-0.77151674-0.15430336j]], shape=(2, 1), dtype=complex64)\n",
            "tf.Tensor(\n",
            "[[9.9999988e-01 2.6987271e-02 4.2623922e-01 9.9999988e-01 2.9285373e-02\n",
            "  4.4005060e-01]\n",
            " [8.2898158e-01 9.9735498e-01 1.7080963e-01 1.4836958e-09 7.9329750e-03\n",
            "  3.0233788e-01]], shape=(2, 6), dtype=float32)\n"
          ],
          "name": "stdout"
        }
      ]
    },
    {
      "cell_type": "markdown",
      "metadata": {
        "id": "AQTD6fcqSgmx"
      },
      "source": [
        "We can vizualize the symbol sent at different SNRs (and the associated bits) using the `visualize()` function : "
      ]
    },
    {
      "cell_type": "code",
      "metadata": {
        "id": "yTeBZluDSgmy",
        "colab": {
          "base_uri": "https://localhost:8080/",
          "height": 284
        },
        "outputId": "e3263dcc-47a0-404a-ce31-7ef43674900f"
      },
      "source": [
        "visualize(baseline, SNRs_db=[0, 5, 10, 20])"
      ],
      "execution_count": null,
      "outputs": [
        {
          "output_type": "display_data",
          "data": {
            "image/png": "[encoded data removed]",
            "text/plain": [
              "<Figure size 2016x432 with 4 Axes>"
            ]
          },
          "metadata": {
            "tags": [],
            "needs_background": "light"
          }
        }
      ]
    },
    {
      "cell_type": "markdown",
      "metadata": {
        "id": "yDuqk_kMSgmy"
      },
      "source": [
        "Can you see something special about the way the symbols are arranged?"
      ]
    },
    {
      "cell_type": "markdown",
      "metadata": {
        "id": "0FwmTXPkd3vd"
      },
      "source": [
        "R: Entre chaque symboles adjacents, seul un bit est différent, afin de réduire le nombre de bits erronés si le symbole transmis est mal interprété."
      ]
    },
    {
      "cell_type": "markdown",
      "metadata": {
        "id": "Rnrd15aGSgmy"
      },
      "source": [
        "Finally, the rate of a transmission is the maximum number of bits that could be sent through the transmitter-receiver if perfect channel coding was used (the bits are coded/decoded before/after the transmissions). In this project, we won't use channel coding, so remember that the rate is a good indication of the performance of a system. The computation of the rate is a bit complex so do not try to undersand it ;)\n",
        "\n",
        "We can evaluate the rate of the transmission at different SNRs using the `evaluate_rate()` function:"
      ]
    },
    {
      "cell_type": "code",
      "metadata": {
        "id": "3EHH5x0ASgmz",
        "colab": {
          "base_uri": "https://localhost:8080/",
          "height": 316
        },
        "outputId": "b8971221-d29a-4d1c-9f6b-a0caf199812a"
      },
      "source": [
        "SNRs_eval = np.linspace(0, 25, 6)\n",
        "rates_baseline = evaluate_rate(baseline, SNRs_eval)\n",
        "\n",
        "plt.plot(SNRs_eval, rates_baseline)\n",
        "plt.xlabel('SNR')\n",
        "plt.ylabel('Rate')\n",
        "plt.grid()"
      ],
      "execution_count": null,
      "outputs": [
        {
          "output_type": "stream",
          "text": [
            "K = 6\n",
            "SNR (dB) = 0.0, 5.0, 10.0, 15.0, 20.0, 25.0, \n"
          ],
          "name": "stdout"
        },
        {
          "output_type": "display_data",
          "data": {
            "image/png": "[encoded data removed]",
            "text/plain": [
              "<Figure size 432x288 with 1 Axes>"
            ]
          },
          "metadata": {
            "tags": [],
            "needs_background": "light"
          }
        }
      ]
    },
    {
      "cell_type": "markdown",
      "metadata": {
        "id": "FuvMwUsVSgmz"
      },
      "source": [
        "These are the rates we want to beat! "
      ]
    },
    {
      "cell_type": "markdown",
      "metadata": {
        "id": "LsEe_gfoSgm0"
      },
      "source": [
        "# 1- Get your hands dirty"
      ]
    },
    {
      "cell_type": "markdown",
      "metadata": {
        "id": "GuGgslzKSgm0"
      },
      "source": [
        "<img src=\"https://github.com/mgoutay/ml_course/blob/master/Images/NN-based_system.png?raw=true\" alt=\"Drawing\" style=\"width: 700px;\"/>"
      ]
    },
    {
      "cell_type": "markdown",
      "metadata": {
        "id": "2RE778MRSgm0"
      },
      "source": [
        "In this first section, the goal is to create your first autoencoder. To make trainings faster, we set $K = 4$ here. Do not try to beat the baseline, as it might be hard for $K<6$\n",
        "\n",
        "The main objectives are to :\n",
        "- Define a loss function\n",
        "- Create the NN-based transmitter and receiver \n",
        "- To normalize the output so that the average power per symbol is one\n",
        "- Create a training loop\n",
        "- Train, evaluate, and compare your system to the baseline"
      ]
    },
    {
      "cell_type": "markdown",
      "metadata": {
        "id": "VtbGh4oFSgm0"
      },
      "source": [
        "You need to make sure that your average power per symbol is one !\n",
        "You can compute your average energy by computing `tf.reduce_mean(tf.square(tf.abs(x)))` once you have performed at least one forward path (so that self.x  contains some values)\n",
        "\n",
        "$$\\mathbb{E}[|x|^2] \\approx \\frac{1}{B_s} \\sum_{i=1}^{B_s} |x|^2 $$\n",
        "\n",
        "How can you make sure that $\\frac{1}{B_s} \\sum_{i=1}^{B_s} |x|^2 = 1$ ?"
      ]
    },
    {
      "cell_type": "markdown",
      "metadata": {
        "id": "fxr6j-2uSgm1"
      },
      "source": [
        "### 1.0 - Import the layer(s) you need"
      ]
    },
    {
      "cell_type": "code",
      "metadata": {
        "id": "Xx9W1st8Sgm1"
      },
      "source": [
        "### Import the layer(s) you need\n",
        "from tensorflow import keras\n",
        "from tensorflow.keras.layers import Dense, Softmax"
      ],
      "execution_count": null,
      "outputs": []
    },
    {
      "cell_type": "markdown",
      "metadata": {
        "id": "2_Qn_J7VSgm1"
      },
      "source": [
        "### 1.1 -  Define the model"
      ]
    },
    {
      "cell_type": "code",
      "metadata": {
        "id": "QhIycJVFSgm2"
      },
      "source": [
        "# This is your autoencoder model, comprising the transmitter, channel, and receiver\n",
        "class Autoencoder(Model):\n",
        "\n",
        "    def __init__(self, K, **kwargs):\n",
        "        super(Autoencoder, self).__init__(**kwargs)\n",
        "        \n",
        "        self.K = K\n",
        "        #You can set other attributes\n",
        "        \n",
        "        self.tx_layer_1 = Dense(256, activation='relu')\n",
        "        self.tx_layer_2 = Dense(256, activation='relu')\n",
        "        self.tx_layer_3 = Dense(2)\n",
        "        ### ...\n",
        "        \n",
        "        self.channel = Channel() \n",
        "        \n",
        "        self.rx_layer_1 = Dense(256, activation='relu') ### Define receiver layers\n",
        "        self.rx_layer_2 = Dense(256, activation='relu') ### Define receiver layers\n",
        "        self.rx_layer_3 = Dense(self.K) ### Define receiver layers\n",
        "        ### ...\n",
        "    \n",
        "    def call(self, bits, SNR_db):\n",
        "        \n",
        "        ### Use layers and/or other Tensorflow functions\n",
        "        bits_nn = self.tx_layer_3(\n",
        "            self.tx_layer_2(\n",
        "                self.tx_layer_1(\n",
        "                    bits\n",
        "        )))\n",
        "        self.x = tf.complex(bits_nn[:,:1], bits_nn[:,1:]) # This must be the symbols that are sent\n",
        "        self.x = self.x / tf.cast(tf.sqrt(tf.reduce_mean(tf.square(tf.abs(self.x)))), tf.complex64)\n",
        "        \n",
        "        self.y = self.channel(self.x, SNR_db)\n",
        "        \n",
        "        ### Use layers and/or other Tensorflow functions\n",
        "        y_real = tf.concat([tf.math.real(self.y), tf.math.imag(self.y)], axis=1)\n",
        "\n",
        "        self.llrs = self.rx_layer_3(\n",
        "          self.rx_layer_2(\n",
        "            self.rx_layer_1(\n",
        "                y_real\n",
        "            )\n",
        "          )\n",
        "        )\n",
        "        self.pb = tf.nn.sigmoid(self.llrs) # This must be the probabilities that the sent bits are ones\n",
        "        \n",
        "        return self.pb"
      ],
      "execution_count": null,
      "outputs": []
    },
    {
      "cell_type": "markdown",
      "metadata": {
        "id": "XlcSUCqOSgm3"
      },
      "source": [
        "### 1.2 -  Instantiate the model, the loss, and the optimizer"
      ]
    },
    {
      "cell_type": "code",
      "metadata": {
        "id": "A_pujF-kSgm4"
      },
      "source": [
        "K = 4\n",
        "\n",
        "\n",
        "autoencoder = Autoencoder(K) # Instantiate an autoencoder\n",
        "baseline = Model_QAM(K) # Instantiate a baseline with the same K for comparison\n",
        "\n",
        "#Initialize optimizer and loss function\n",
        "optimizer = tf.keras.optimizers.Adam() # Instantiate an optimizer\n",
        "loss_func = tf.keras.losses.BinaryCrossentropy() # Pick a loss function that makes sense for this problem, do not try to understand how the rate is computed! If you choose a good loss funciton, the rate of the transmission will be maximized"
      ],
      "execution_count": null,
      "outputs": []
    },
    {
      "cell_type": "markdown",
      "metadata": {
        "id": "AkIWmPD-Sgm4"
      },
      "source": [
        "What loss function did you use and why?"
      ]
    },
    {
      "cell_type": "markdown",
      "metadata": {
        "id": "x3ZZIhP40Fdh"
      },
      "source": [
        "R: On a choisi la crossentropy afin de minimiser la perte et maximiser le rate entre la vérité et la prédiction"
      ]
    },
    {
      "cell_type": "markdown",
      "metadata": {
        "id": "j2P9Qr-zSgm5"
      },
      "source": [
        "### 1.3 - generate and create optimized Tensorflow datasets"
      ]
    },
    {
      "cell_type": "code",
      "metadata": {
        "id": "3TrIH536Sgm5"
      },
      "source": [
        "DS_size = 100000\n",
        "DS_train_ratio = 0.8\n",
        "\n",
        "batch_size = 1024\n",
        "DS_bits, DS_SNRs_db = gen_DS(DS_size, K, SNR_db_low=-5, SNR_db_high=30)\n",
        "\n",
        "TF_DS_bits_train = DS_bits[:int(DS_size*DS_train_ratio)] # Create optimized TF dataset\n",
        "TF_DS_SNR_train = DS_SNRs_db[:int(DS_size*DS_train_ratio)]\n",
        "\n",
        "TF_DS_train = tf.data.Dataset.from_tensor_slices((TF_DS_bits_train, TF_DS_SNR_train)).batch(batch_size)\n",
        "\n",
        "TF_DS_bits_test = DS_bits[int(DS_size*DS_train_ratio):] # Create optimized TF dataset\n",
        "TF_DS_SNR_test = DS_SNRs_db[int(DS_size*DS_train_ratio):]\n",
        "TF_DS_test = tf.data.Dataset.from_tensor_slices((TF_DS_bits_test, TF_DS_SNR_test)).batch(batch_size)"
      ],
      "execution_count": null,
      "outputs": []
    },
    {
      "cell_type": "markdown",
      "metadata": {
        "id": "_m1SJWVFSgm6"
      },
      "source": [
        "### 1.4 - Train the model"
      ]
    },
    {
      "cell_type": "code",
      "metadata": {
        "id": "cW_680xBSgm6",
        "colab": {
          "base_uri": "https://localhost:8080/"
        },
        "outputId": "47c3e965-753e-48aa-f489-185f3695719c"
      },
      "source": [
        "### Training loop \n",
        "#Define the number of epochs\n",
        "nb_epoch = 5\n",
        "\n",
        "print('Loss after each epoch:')\n",
        "\n",
        "for epoch in range(nb_epoch):\n",
        "    # Iterate over the batches of the dataset.\n",
        "    for step, (bits, SNR) in enumerate(TF_DS_train):\n",
        "        # Open a GradientTape.\n",
        "        with tf.GradientTape() as tape:\n",
        "\n",
        "            # Forward pass.\n",
        "            probas = autoencoder(bits, SNR)\n",
        "\n",
        "            # Loss value for this batch.\n",
        "            loss_value =  loss_func(y_true=bits, y_pred=probas)\n",
        "\n",
        "        # Get gradients of loss wrt the weights.\n",
        "        gradients = tape.gradient(loss_value, autoencoder.trainable_weights)\n",
        "\n",
        "        # Update the weights of our linear layer.\n",
        "        optimizer.apply_gradients(zip(gradients, autoencoder.trainable_weights))\n",
        "    \n",
        "    #Test the model on the test datasets\n",
        "    test_loss = 0.\n",
        "    for step, (bits, SNR) in enumerate(TF_DS_test):\n",
        "        probas = autoencoder(bits, SNR)\n",
        "        test_loss += loss_func(y_true=bits, y_pred=probas)\n",
        "    print((test_loss/(step+1)).numpy(), end=', ')\n",
        "print('Done')"
      ],
      "execution_count": null,
      "outputs": [
        {
          "output_type": "stream",
          "text": [
            "Loss after each epoch:\n",
            "0.501197, 0.4850521, 0.46342954, 0.4529242, 0.44437042, Done\n"
          ],
          "name": "stdout"
        }
      ]
    },
    {
      "cell_type": "markdown",
      "metadata": {
        "id": "3RcnMTBbSgm7"
      },
      "source": [
        "### 1.5 - Evaluate the model"
      ]
    },
    {
      "cell_type": "markdown",
      "metadata": {
        "id": "uRW68TxhSgm8"
      },
      "source": [
        "In Section 1, the goal is to have a model that works. You can evaluate the model with the `evaluate_rate()` function, but do not try to beat the baseline."
      ]
    },
    {
      "cell_type": "code",
      "metadata": {
        "id": "lRUbBY4dSgm8",
        "colab": {
          "base_uri": "https://localhost:8080/",
          "height": 353
        },
        "outputId": "c427c293-0cad-4666-e5c1-2acb770e38c1"
      },
      "source": [
        "# Define the SNRs (dB) at which we want to evaluate the models\n",
        "SNRs_eval = np.linspace(0, 20, 5)\n",
        "\n",
        "# Evaluate the models\n",
        "rate_autoencoder = evaluate_rate(autoencoder, SNRs_eval)\n",
        "rate_baseline = evaluate_rate(baseline, SNRs_eval) # For comparison\n",
        "\n",
        "#plot the result\n",
        "plt.plot(SNRs_eval, rate_baseline, label='Baseline')\n",
        "plt.plot(SNRs_eval, rate_autoencoder, label='Autoencoder')\n",
        "plt.xlabel('SNR')\n",
        "plt.ylabel('Rate')\n",
        "plt.legend()\n",
        "plt.grid()"
      ],
      "execution_count": null,
      "outputs": [
        {
          "output_type": "stream",
          "text": [
            "K = 6\n",
            "SNR (dB) = 0.0, 5.0, 10.0, 15.0, 20.0, \n",
            "K = 6\n",
            "SNR (dB) = 0.0, 5.0, 10.0, 15.0, 20.0, \n"
          ],
          "name": "stdout"
        },
        {
          "output_type": "display_data",
          "data": {
            "image/png": "[encoded data removed]",
            "text/plain": [
              "<Figure size 432x288 with 1 Axes>"
            ]
          },
          "metadata": {
            "tags": [],
            "needs_background": "light"
          }
        }
      ]
    },
    {
      "cell_type": "markdown",
      "metadata": {
        "id": "lAC3aB7MSgm8"
      },
      "source": [
        "We can vizualize the learned constellations at different SNRs:\n",
        "\n",
        "What do you see (two things should be noticed)?"
      ]
    },
    {
      "cell_type": "markdown",
      "metadata": {
        "id": "blQ3RoopWULN"
      },
      "source": [
        "R: Le SNR n'influe pas sur la forme de la constellation, la constellation est légèrement tournée et les points ne sont pas régulièrement disposés.\n",
        "De plus les points 1010 et 0110 par exemple ne sont pas tellement éloignés mais ont 2 bits de différence, ainsi si il y a une erreur entre ces deux, alors il y aura deux bits erronés d'un coup."
      ]
    },
    {
      "cell_type": "code",
      "metadata": {
        "id": "RpVG73o8Sgm9",
        "colab": {
          "base_uri": "https://localhost:8080/",
          "height": 551
        },
        "outputId": "44bd4ef7-2018-4759-d8db-ce480556b33a"
      },
      "source": [
        "visualize(baseline, SNRs_db=[0, 5, 10, 20]) #Visualize the symbols generated by the conventional QAM system\n",
        "visualize(autoencoder, SNRs_db=[0, 5, 10, 20]) #Visualize the symbols generated by the autoencoder"
      ],
      "execution_count": null,
      "outputs": [
        {
          "output_type": "display_data",
          "data": {
            "image/png": "[encoded data removed]",
            "text/plain": [
              "<Figure size 2016x432 with 4 Axes>"
            ]
          },
          "metadata": {
            "tags": [],
            "needs_background": "light"
          }
        },
        {
          "output_type": "display_data",
          "data": {
            "image/png": "[encoded data removed]",
            "text/plain": [
              "<Figure size 2016x432 with 4 Axes>"
            ]
          },
          "metadata": {
            "tags": [],
            "needs_background": "light"
          }
        }
      ]
    },
    {
      "cell_type": "markdown",
      "metadata": {
        "id": "rFZSimMbSgm9"
      },
      "source": [
        "Send three batches of random bits and plot the sent symbols for a fixed SNR of 10dB:\n",
        "\n",
        "What do you see ?"
      ]
    },
    {
      "cell_type": "markdown",
      "metadata": {
        "id": "T_eHY_QOYUQ9"
      },
      "source": [
        "R: Pour des valeurs identiques envoyées, le seymbole de la constellation n'est pas exactement identique, ce qui crée une imprécision.\n",
        "\n",
        "\n"
      ]
    },
    {
      "cell_type": "code",
      "metadata": {
        "id": "SsaPmFkXSgm9",
        "colab": {
          "base_uri": "https://localhost:8080/",
          "height": 283
        },
        "outputId": "154955a4-43bf-45b4-f48b-f8a80583f603"
      },
      "source": [
        "SNRs =  tf.ones((100, 1))*10.\n",
        "\n",
        "rdm_bits = tf.cast(tf.random.uniform([100, K], 0, 2, dtype=tf.int32), tf.float32)\n",
        "pb = autoencoder(rdm_bits, SNRs)\n",
        "plt.scatter(np.real(autoencoder.x), np.imag(autoencoder.x), marker='+', label='1st transmission')\n",
        "\n",
        "rdm_bits = tf.cast(tf.random.uniform([100, K], 0, 2, dtype=tf.int32), tf.float32)\n",
        "pb = autoencoder(rdm_bits, SNRs)\n",
        "plt.scatter(np.real(autoencoder.x), np.imag(autoencoder.x), marker='+', label='2nd transmission')\n",
        "\n",
        "rdm_bits = tf.cast(tf.random.uniform([100, K], 0, 2, dtype=tf.int32), tf.float32)\n",
        "pb = autoencoder(rdm_bits, SNRs)\n",
        "plt.scatter(np.real(autoencoder.x), np.imag(autoencoder.x), marker='+', label='3rd transmission')\n",
        "\n",
        "plt.legend()"
      ],
      "execution_count": null,
      "outputs": [
        {
          "output_type": "execute_result",
          "data": {
            "text/plain": [
              "<matplotlib.legend.Legend at 0x7f4859cf5150>"
            ]
          },
          "metadata": {
            "tags": []
          },
          "execution_count": 35
        },
        {
          "output_type": "display_data",
          "data": {
            "image/png": "[encoded data removed]",
            "text/plain": [
              "<Figure size 432x288 with 1 Axes>"
            ]
          },
          "metadata": {
            "tags": [],
            "needs_background": "light"
          }
        }
      ]
    },
    {
      "cell_type": "markdown",
      "metadata": {
        "id": "n8U3PIspSgm9"
      },
      "source": [
        "# 2. Generate a proper constellation\n",
        "\n",
        "Here we want to solve the problem that we have spotted just above. Please call me before starting Section 2 so that I can make sure that you understand the problem.\n",
        "\n",
        "The idea here is to use the transmitter to generate constellation vectors that depends on the SNR, instead of directly generating the symbols to send. For one entry in the batch (one SNR), this constellation vector contains all $2^K$ symbols that can be sent, so it is a complex vector of size $2^K$.\n",
        "\n",
        "To generate the sent symbols, one can then:\n",
        "- For each entries in the batch, convert the vector of bits to be send to their one-hot representation. For example, with $K=2$ : [00] = [1000], [10] = [0100], [01] = [0010], [11] = [0001] or something similar.  You might want to use `tf.pow()` and `tf.one_hot()`\n",
        "- Multiply (element-wise) the one-hot representation of the bits to the corresponding constellation vector generated by the transmitter\n",
        "- The resulting vector is of size $2^K$ but only one entry is non-zero. This can be simplified to a single complex number, for example using `tf.reduce_sum()` on the good axis\n",
        "\n",
        "What is the benefit of using this technique?"
      ]
    },
    {
      "cell_type": "markdown",
      "metadata": {
        "id": "yk_pfx3YadY1"
      },
      "source": [
        "R: On est plus précis sur la normalisation : on est plus proche de la réalité car la puissance ne dépend pas de la position des symboles."
      ]
    },
    {
      "cell_type": "markdown",
      "metadata": {
        "id": "MRJ9xJG6Sgm-"
      },
      "source": [
        "### 2.1 Define the model"
      ]
    },
    {
      "cell_type": "code",
      "metadata": {
        "id": "QhpPruXTSgm_"
      },
      "source": [
        "class Autoencoder2(Model):\n",
        "\n",
        "    def __init__(self, K, **kwargs):\n",
        "        super(Autoencoder2, self).__init__(**kwargs)\n",
        "\n",
        "        # self.binary_map = tf.cast(tf.constant([2**j for j in range(K-1, -1, -1)]), 'float32')\n",
        "        \n",
        "        self.K = K\n",
        "        #You can set other attributes\n",
        "\n",
        "        self.tx_layer_1 = Dense(128, activation='elu')\n",
        "        self.tx_layer_2 = Dense(128, activation='elu')\n",
        "        self.tx_layer_3 = Dense(128, activation='elu')\n",
        "        self.tx_layer_4 = Dense(128, activation='elu')\n",
        "        self.tx_layer_5 = Dense(128, activation='elu')\n",
        "        self.tx_layer_6 = Dense(128, activation='elu')\n",
        "        self.tx_layer_7 = Dense(2*(2**self.K))\n",
        "        \n",
        "        self.channel = Channel() \n",
        "        \n",
        "        self.rx_layer_1 = Dense(128, activation='elu') ### Define receiver layers\n",
        "        self.rx_layer_2 = Dense(128, activation='elu') ### Define receiver layers\n",
        "        self.rx_layer_3 = Dense(128, activation='elu') ### Define receiver layers\n",
        "        self.rx_layer_4 = Dense(128, activation='elu') ### Define receiver layers\n",
        "        self.rx_layer_5 = Dense(self.K) ### Define receiver layers\n",
        "    \n",
        "    def call(self, bits, SNR_db):\n",
        "\n",
        "        \n",
        "        ### Use layers and/or other Tensorflow functions\n",
        "        self.x = self.tx_layer_7(self.tx_layer_6(self.tx_layer_5(self.tx_layer_4( self.tx_layer_3(\n",
        "            self.tx_layer_2(\n",
        "                self.tx_layer_1(\n",
        "                    SNR_db\n",
        "        )))))))\n",
        "        # res = tf.cast(tf.reduce_sum(tf.multiply(bits, self.binary_map)), 'int32')\n",
        "        # bit_oh = tf.one_hot(res, depth=2**K)\n",
        "\n",
        "        # self.x = tf.reduce_sum(tf.multiply(self.x, bit_oh))\n",
        "\n",
        "        self.x = tf.complex(self.x[:,:(tf.pow(2,K))], self.x[:,(tf.pow(2,K)):])\n",
        "        indice = tf.reduce_sum(tf.cast(bits, dtype=tf.int64)* 2 ** tf.reverse(tensor=tf.range(tf.cast(K, dtype=tf.int64)), axis=[0]), axis = 1)\n",
        "        bits_one_hot = tf.one_hot(indice,tf.pow(2,K))\n",
        "        self.energy = tf.reduce_mean(tf.square(tf.abs(self.x)), axis = 1, keepdims=True)\n",
        "        self.x = self.x/tf.cast(tf.sqrt(self.energy),tf.complex64)\n",
        "        self.x = tf.reduce_sum(tf.math.multiply(self.x, tf.cast(bits_one_hot,tf.complex64)), axis = 1, keepdims=True)\n",
        "        \n",
        "        self.y = self.channel(self.x, SNR_db)\n",
        "        \n",
        "        ### Use layers and/or other Tensorflow functions\n",
        "        y_real = tf.concat([tf.math.real(self.y), tf.math.imag(self.y)], axis=1)\n",
        "\n",
        "        self.llrs = self.rx_layer_5( self.rx_layer_4( self.rx_layer_3(\n",
        "          self.rx_layer_2(\n",
        "            self.rx_layer_1(\n",
        "                y_real\n",
        "            )\n",
        "          )\n",
        "        )))\n",
        "        self.pb = tf.nn.sigmoid(self.llrs) # This must be the probabilities that the sent bits are ones\n",
        "        return self.pb"
      ],
      "execution_count": null,
      "outputs": []
    },
    {
      "cell_type": "markdown",
      "metadata": {
        "id": "ahgRm81wSgm_"
      },
      "source": [
        "You can start by setting $K=4$, but remember to use $K=6$ when you try to beat the baseline"
      ]
    },
    {
      "cell_type": "markdown",
      "metadata": {
        "id": "wl1grblkSgm_"
      },
      "source": [
        "### 2.2 -  Instantiate the model, the loss, and the optimizer"
      ]
    },
    {
      "cell_type": "code",
      "metadata": {
        "id": "PP_ZHsdhSgm_",
        "colab": {
          "base_uri": "https://localhost:8080/",
          "height": 351
        },
        "outputId": "fe1c7e90-23cb-4681-c133-15844ac25f57"
      },
      "source": [
        "K = 6\n",
        "\n",
        "# Instantiate an autoencoder\n",
        "autoencoder2 = Autoencoder2(K)\n",
        "baseline2 = Model_QAM(K)\n",
        "\n",
        "#Initialize optimizer and loss function\n",
        "optimizer = tf.keras.optimizers.Adam() # Optimizer\n",
        "loss_func = tf.keras.losses.BinaryCrossentropy() # Loss function"
      ],
      "execution_count": null,
      "outputs": [
        {
          "output_type": "error",
          "ename": "NameError",
          "evalue": "ignored",
          "traceback": [
            "\u001b[0;31m---------------------------------------------------------------------------\u001b[0m",
            "\u001b[0;31mNameError\u001b[0m                                 Traceback (most recent call last)",
            "\u001b[0;32m<ipython-input-16-8d8beb31748c>\u001b[0m in \u001b[0;36m<module>\u001b[0;34m()\u001b[0m\n\u001b[1;32m      2\u001b[0m \u001b[0;34m\u001b[0m\u001b[0m\n\u001b[1;32m      3\u001b[0m \u001b[0;31m# Instantiate an autoencoder\u001b[0m\u001b[0;34m\u001b[0m\u001b[0;34m\u001b[0m\u001b[0;34m\u001b[0m\u001b[0m\n\u001b[0;32m----> 4\u001b[0;31m \u001b[0mautoencoder2\u001b[0m \u001b[0;34m=\u001b[0m \u001b[0mAutoencoder2\u001b[0m\u001b[0;34m(\u001b[0m\u001b[0mK\u001b[0m\u001b[0;34m)\u001b[0m\u001b[0;34m\u001b[0m\u001b[0;34m\u001b[0m\u001b[0m\n\u001b[0m\u001b[1;32m      5\u001b[0m \u001b[0mbaseline2\u001b[0m \u001b[0;34m=\u001b[0m \u001b[0mModel_QAM\u001b[0m\u001b[0;34m(\u001b[0m\u001b[0mK\u001b[0m\u001b[0;34m)\u001b[0m\u001b[0;34m\u001b[0m\u001b[0;34m\u001b[0m\u001b[0m\n\u001b[1;32m      6\u001b[0m \u001b[0;34m\u001b[0m\u001b[0m\n",
            "\u001b[0;32m<ipython-input-15-71db207b88f8>\u001b[0m in \u001b[0;36m__init__\u001b[0;34m(self, K, **kwargs)\u001b[0m\n\u001b[1;32m      9\u001b[0m         \u001b[0;31m#You can set other attributes\u001b[0m\u001b[0;34m\u001b[0m\u001b[0;34m\u001b[0m\u001b[0;34m\u001b[0m\u001b[0m\n\u001b[1;32m     10\u001b[0m \u001b[0;34m\u001b[0m\u001b[0m\n\u001b[0;32m---> 11\u001b[0;31m         \u001b[0mself\u001b[0m\u001b[0;34m.\u001b[0m\u001b[0mtx_layer_1\u001b[0m \u001b[0;34m=\u001b[0m \u001b[0mDense\u001b[0m\u001b[0;34m(\u001b[0m\u001b[0;36m128\u001b[0m\u001b[0;34m,\u001b[0m \u001b[0mactivation\u001b[0m\u001b[0;34m=\u001b[0m\u001b[0;34m'elu'\u001b[0m\u001b[0;34m)\u001b[0m\u001b[0;34m\u001b[0m\u001b[0;34m\u001b[0m\u001b[0m\n\u001b[0m\u001b[1;32m     12\u001b[0m         \u001b[0mself\u001b[0m\u001b[0;34m.\u001b[0m\u001b[0mtx_layer_2\u001b[0m \u001b[0;34m=\u001b[0m \u001b[0mDense\u001b[0m\u001b[0;34m(\u001b[0m\u001b[0;36m128\u001b[0m\u001b[0;34m,\u001b[0m \u001b[0mactivation\u001b[0m\u001b[0;34m=\u001b[0m\u001b[0;34m'elu'\u001b[0m\u001b[0;34m)\u001b[0m\u001b[0;34m\u001b[0m\u001b[0;34m\u001b[0m\u001b[0m\n\u001b[1;32m     13\u001b[0m         \u001b[0mself\u001b[0m\u001b[0;34m.\u001b[0m\u001b[0mtx_layer_3\u001b[0m \u001b[0;34m=\u001b[0m \u001b[0mDense\u001b[0m\u001b[0;34m(\u001b[0m\u001b[0;36m128\u001b[0m\u001b[0;34m,\u001b[0m \u001b[0mactivation\u001b[0m\u001b[0;34m=\u001b[0m\u001b[0;34m'elu'\u001b[0m\u001b[0;34m)\u001b[0m\u001b[0;34m\u001b[0m\u001b[0;34m\u001b[0m\u001b[0m\n",
            "\u001b[0;31mNameError\u001b[0m: name 'Dense' is not defined"
          ]
        }
      ]
    },
    {
      "cell_type": "markdown",
      "metadata": {
        "id": "1TA9HklvSgnA"
      },
      "source": [
        "### 2.3 - generate and create optimized Tensorflow datasets"
      ]
    },
    {
      "cell_type": "code",
      "metadata": {
        "id": "5Q5dwtXISgnA",
        "colab": {
          "base_uri": "https://localhost:8080/"
        },
        "outputId": "18ae495d-039b-4bdf-d4eb-2c73df90c014"
      },
      "source": [
        "DS_size = 100000\n",
        "DS_train_ratio = 0.8\n",
        "\n",
        "batch_size = 1024\n",
        "DS_bits, DS_SNRs_db = gen_DS(DS_size, K, SNR_db_low=-5, SNR_db_high=25)\n",
        "print('Dataset generated with K =', K)\n",
        "\n",
        "TF_DS_bits_train = DS_bits[:int(DS_size*DS_train_ratio)] # Create optimized TF dataset\n",
        "TF_DS_SNR_train = DS_SNRs_db[:int(DS_size*DS_train_ratio)]\n",
        "\n",
        "TF_DS_train = tf.data.Dataset.from_tensor_slices((TF_DS_bits_train, TF_DS_SNR_train)).batch(batch_size)\n",
        "\n",
        "TF_DS_bits_test = DS_bits[int(DS_size*DS_train_ratio):] # Create optimized TF dataset\n",
        "TF_DS_SNR_test = DS_SNRs_db[int(DS_size*DS_train_ratio):]\n",
        "TF_DS_test = tf.data.Dataset.from_tensor_slices((TF_DS_bits_test, TF_DS_SNR_test)).batch(batch_size)"
      ],
      "execution_count": null,
      "outputs": [
        {
          "output_type": "stream",
          "text": [
            "Dataset generated with K = 6\n"
          ],
          "name": "stdout"
        }
      ]
    },
    {
      "cell_type": "markdown",
      "metadata": {
        "id": "GTE_DzkCSgnA"
      },
      "source": [
        "### 2.4 - Train the model\n"
      ]
    },
    {
      "cell_type": "code",
      "metadata": {
        "id": "HNR514PhSgnB",
        "colab": {
          "base_uri": "https://localhost:8080/"
        },
        "outputId": "80761792-ea4a-43b8-d0bc-78507dfa39be"
      },
      "source": [
        "### Training loop \n",
        "#Define the number of epochs\n",
        "nb_epoch = 128\n",
        "\n",
        "print('Loss after each epoch:')\n",
        "\n",
        "for epoch in range(nb_epoch):\n",
        "    # Iterate over the batches of the dataset.\n",
        "    for step, (bits, SNR) in enumerate(TF_DS_train):\n",
        "        # Open a GradientTape.\n",
        "        with tf.GradientTape() as tape:\n",
        "\n",
        "            # Forward pass.\n",
        "            probas = autoencoder2(bits, SNR)\n",
        "\n",
        "            # Loss value for this batch.\n",
        "            loss_value =  loss_func(y_true=bits, y_pred=probas)\n",
        "\n",
        "        # Get gradients of loss wrt the weights.\n",
        "        gradients = tape.gradient(loss_value, autoencoder2.trainable_weights)\n",
        "\n",
        "        # Update the weights of our linear layer.\n",
        "        optimizer.apply_gradients(zip(gradients, autoencoder2.trainable_weights))\n",
        "    \n",
        "    #Test the model on the test datasets\n",
        "    test_loss = 0.\n",
        "    for step, (bits, SNR) in enumerate(TF_DS_test):\n",
        "        probas = autoencoder2(bits, SNR)\n",
        "        test_loss += loss_func(y_true=bits, y_pred=probas)\n",
        "    print((test_loss/(step+1)).numpy(), end=', ')\n",
        "print('Done')"
      ],
      "execution_count": null,
      "outputs": [
        {
          "output_type": "stream",
          "text": [
            "Loss after each epoch:\n",
            "0.41972393, 0.41902298, 0.42309365, 0.41852698, 0.42234272, 0.41984263, 0.41854352, 0.42041308, 0.41818157, 0.4183704, 0.41950744, 0.42043424, 0.41808128, 0.41906914, 0.42036587, 0.4170851, 0.4164638, 0.42372006, 0.4163404, 0.41773406, 0.41647688, 0.41565531, 0.4154873, 0.42061877, 0.4137559, 0.41620407, 0.41688937, 0.41641697, 0.41629925, 0.41675797, 0.41843337, 0.41621748, 0.4176715, 0.41597685, 0.4152058, "
          ],
          "name": "stdout"
        }
      ]
    },
    {
      "cell_type": "markdown",
      "metadata": {
        "id": "zDYYqMp3SgnB"
      },
      "source": [
        "### 2.5 - Evaluate the model"
      ]
    },
    {
      "cell_type": "markdown",
      "metadata": {
        "id": "3SSgYgL0SgnC"
      },
      "source": [
        "Do you manage to beat the baseline with $K=6$ ?"
      ]
    },
    {
      "cell_type": "code",
      "metadata": {
        "id": "lAUOCP5DSgnC",
        "colab": {
          "base_uri": "https://localhost:8080/",
          "height": 353
        },
        "outputId": "84cc5075-b8f1-4a39-886e-3e204c80b302"
      },
      "source": [
        "SNRs_eval = np.linspace(0, 20, 5)\n",
        "rate_autoencoder2 = evaluate_rate(autoencoder2, SNRs_eval)\n",
        "rate_baseline2 = evaluate_rate(baseline2, SNRs_eval)\n",
        "\n",
        "plt.plot(SNRs_eval, rate_baseline2, label='Baseline2')\n",
        "plt.plot(SNRs_eval, rate_autoencoder2, label='Autoencoder2')\n",
        "plt.xlabel('SNR')\n",
        "plt.ylabel('Rate')\n",
        "plt.legend()\n",
        "plt.grid()"
      ],
      "execution_count": null,
      "outputs": [
        {
          "output_type": "stream",
          "text": [
            "K = 6\n",
            "SNR (dB) = 0.0, 5.0, 10.0, 15.0, 20.0, \n",
            "K = 6\n",
            "SNR (dB) = 0.0, 5.0, 10.0, 15.0, 20.0, \n"
          ],
          "name": "stdout"
        },
        {
          "output_type": "display_data",
          "data": {
            "image/png": "[encoded data removed]",
            "text/plain": [
              "<Figure size 432x288 with 1 Axes>"
            ]
          },
          "metadata": {
            "tags": [],
            "needs_background": "light"
          }
        }
      ]
    },
    {
      "cell_type": "markdown",
      "metadata": {
        "id": "2MW4eoKQSgnC"
      },
      "source": [
        "We can also visualize the sent constellation at different SNRs : "
      ]
    },
    {
      "cell_type": "code",
      "metadata": {
        "id": "7azyPCs0SgnC",
        "colab": {
          "base_uri": "https://localhost:8080/",
          "height": 549
        },
        "outputId": "3f966ad6-64f0-4999-a21e-b3f3dc4e447e"
      },
      "source": [
        "visualize(autoencoder2, SNRs_db=[0, 5, 10, 20])\n",
        "visualize(baseline2, SNRs_db=[0, 5, 10, 20])"
      ],
      "execution_count": null,
      "outputs": [
        {
          "output_type": "display_data",
          "data": {
            "image/png": "[encoded data removed]",
            "text/plain": [
              "<Figure size 2016x432 with 4 Axes>"
            ]
          },
          "metadata": {
            "tags": [],
            "needs_background": "light"
          }
        },
        {
          "output_type": "display_data",
          "data": {
            "image/png": "[encoded data removed]",
            "text/plain": [
              "<Figure size 2016x432 with 4 Axes>"
            ]
          },
          "metadata": {
            "tags": [],
            "needs_background": "light"
          }
        }
      ]
    },
    {
      "cell_type": "markdown",
      "metadata": {
        "id": "uI5X-j86SgnD"
      },
      "source": [
        "# 3 - Transmit on multiple channel uses"
      ]
    },
    {
      "cell_type": "markdown",
      "metadata": {
        "id": "RpkDMKjeSgnD"
      },
      "source": [
        "One vector of $K$ bits can also be transmitted on multiple channel uses, meaning that for each vector of $K$ bits in the batch we send $N_c$ complex symbols instead of $1$. $N_c$ denotes the number of channel uses, and the symbols sent that correspond to one vector of bits are denoted $\\mathbf{x}\\in \\mathbb{C}^{N_c}$\n",
        "\n",
        "The goal here is to transmit $N_c$ symbols for each entry in the batch, making sure that the average power per symbol remains one : $\\mathbb{E}[[x|] =1$."
      ]
    },
    {
      "cell_type": "markdown",
      "metadata": {
        "id": "AQm7ha--SgnE"
      },
      "source": [
        "### 3.0 - Example with the baseline, with $N_c=2$"
      ]
    },
    {
      "cell_type": "code",
      "metadata": {
        "id": "vhCG5Gm1SgnE"
      },
      "source": [
        "K=6\n",
        "Nc = 2\n",
        "\n",
        "DS_size=100 \n",
        "DS_bits, DS_SNRs_db = gen_DS(DS_size, K, SNR_db_low=-5, SNR_db_high=30) #Generate a dataset\n",
        "\n",
        "# Initialize the baseline\n",
        "baseline3 = Model_QAM(K, Nc)\n",
        "\n",
        "# Define a very small batch containing just one sample to visualize the output\n",
        "batch_bits = DS_bits[:1]\n",
        "batch_SNRs = DS_SNRs_db[:1]\n",
        "\n",
        "# Print the sent bits\n",
        "print('batch_bits : ', batch_bits)\n",
        "print('batch_SNRs : ', batch_SNRs)\n",
        "\n",
        "# Compute probabilities that the bits equals to one\n",
        "prob_eq_1 = baseline3(batch_bits, batch_SNRs)\n",
        "\n",
        "# Print the symbols that were sent\n",
        "print('baseline.x : ', baseline3.x) # x is now a vector of size Nc !\n",
        "\n",
        "# Print the predicted probabilities\n",
        "print('pb predicted by the baseline : ', prob_eq_1)"
      ],
      "execution_count": null,
      "outputs": []
    },
    {
      "cell_type": "markdown",
      "metadata": {
        "id": "c13aqX8eSgnF"
      },
      "source": [
        "You can visualize the $N_c$ channel uses with the `visualize_channel_uses()` function"
      ]
    },
    {
      "cell_type": "code",
      "metadata": {
        "id": "OcXNpanxSgnF"
      },
      "source": [
        "visualize_channel_uses(baseline3, SNR_db = 10)"
      ],
      "execution_count": null,
      "outputs": []
    },
    {
      "cell_type": "markdown",
      "metadata": {
        "id": "KPiSFvy3SgnF"
      },
      "source": [
        "### 3.1 - Build the autoencoder, train, and evaluate"
      ]
    },
    {
      "cell_type": "code",
      "metadata": {
        "id": "LSWqtYjbSgnF"
      },
      "source": [
        "class Autoencoder3(Model):\n",
        "\n",
        "    def __init__(self, K, Nc, **kwargs):\n",
        "        super(Autoencoder3, self).__init__(**kwargs)\n",
        "        \n",
        "        self.K = K\n",
        "        self.Nc = Nc\n",
        "        #You can set other attributes\n",
        "        \n",
        "        self.tx_layer_1 = ### Define transmitter layers\n",
        "        self.tx_layer_2 = ### Define transmitter layers\n",
        "        self.tx_layer_3 = ### Define transmitter layers\n",
        "\n",
        "        self.channel = Channel(self.Nc)\n",
        "        \n",
        "        self.rx_layer_1 = ### Define receiver layers\n",
        "        self.rx_layer_2 = ### Define receiver layers\n",
        "        self.rx_layer_3 = ### Define receiver layers\n",
        "    \n",
        "    def call(self, bits, SNR_db):\n",
        "        \n",
        "        ### Use layers and/or other Tensorflow functions\n",
        "        self.x = # This must be the symbols that are sent\n",
        "            \n",
        "        self.y = self.channel(self.x, SNR_db)\n",
        "        \n",
        "        ### Use layers and/or other Tensorflow functions\n",
        "        self.pb = # This must be the probabilities that the sent bits are ones\n",
        "\n",
        "        return self.pb"
      ],
      "execution_count": null,
      "outputs": []
    },
    {
      "cell_type": "code",
      "metadata": {
        "id": "4CVFh4RxSgnG"
      },
      "source": [
        "K = 6\n",
        "Nc = 2\n",
        "\n",
        "# Instantiate an autoencoder\n",
        "autoencoder3 = Autoencoder3(K, Nc)\n",
        "baseline3 = Model_QAM(K, Nc)\n",
        "\n",
        "#Initialize optimizer and loss function\n",
        "optimizer =  ### Optimizer\n",
        "loss_func = ### Loss function"
      ],
      "execution_count": null,
      "outputs": []
    },
    {
      "cell_type": "code",
      "metadata": {
        "id": "2RkG5kxzSgnG"
      },
      "source": [
        "DS_size = 100000\n",
        "batch_size = 1024\n",
        "DS_bits, DS_SNRs_db = gen_DS(DS_size, K, SNR_db_low=-5, SNR_db_high=25)\n",
        "print('Dataset generated with K =', K)\n",
        "\n",
        "TF_DS_train = # Create optimized TF dataset\n",
        "TF_DS_test = # Create optimized TF dataset"
      ],
      "execution_count": null,
      "outputs": []
    },
    {
      "cell_type": "code",
      "metadata": {
        "id": "jh-yJFlWSgnG"
      },
      "source": [
        "### Training loop"
      ],
      "execution_count": null,
      "outputs": []
    },
    {
      "cell_type": "code",
      "metadata": {
        "id": "R6k-7qvASgnH"
      },
      "source": [
        "SNRs_eval = np.linspace(0, 20, 5)\n",
        "rate_autoencoder3 = evaluate_rate(autoencoder3, SNRs_eval)\n",
        "rate_baseline3 = evaluate_rate(baseline3, SNRs_eval)\n",
        "\n",
        "plt.plot(SNRs_eval, rate_baseline3, label='Baseline3')\n",
        "plt.plot(SNRs_eval, rate_autoencoder3, label='Autoencoder3')\n",
        "plt.xlabel('SNR')\n",
        "plt.ylabel('Rate')\n",
        "plt.legend()\n",
        "plt.grid()"
      ],
      "execution_count": null,
      "outputs": []
    },
    {
      "cell_type": "code",
      "metadata": {
        "id": "XIeXs5nlSgnH"
      },
      "source": [
        "visualize_channel_uses(autoencoder3, SNR_db = 10)"
      ],
      "execution_count": null,
      "outputs": []
    },
    {
      "cell_type": "markdown",
      "metadata": {
        "id": "A0eBiBHlSgnH"
      },
      "source": [
        "Can you see something interesting?"
      ]
    },
    {
      "cell_type": "code",
      "metadata": {
        "id": "aPZMxL0qSgnH"
      },
      "source": [
        ""
      ],
      "execution_count": null,
      "outputs": []
    }
  ]
}